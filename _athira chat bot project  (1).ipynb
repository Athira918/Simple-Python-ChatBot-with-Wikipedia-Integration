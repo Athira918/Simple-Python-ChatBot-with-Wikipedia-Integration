{
 "cells": [
  {
   "cell_type": "code",
   "execution_count": 1,
   "id": "48c50c60-c04c-4f08-ade9-59431ad966f1",
   "metadata": {},
   "outputs": [],
   "source": [
    "import random \n",
    "import nltk \n",
    "from nltk.stem import PorterStemmer\n",
    "import wikipedia\n",
    "\n",
    "wikipedia.api_url = \"https://en.wikipedia.org/w/api.php\"\n"
   ]
  },
  {
   "cell_type": "code",
   "execution_count": 2,
   "id": "bdec3ea6-9aa6-4dc6-9a31-b84370d99add",
   "metadata": {},
   "outputs": [],
   "source": [
    "\n",
    "data = {\n",
    "    \"greetings\": [\n",
    "        \"hello\", \"hi\", \"hey\", \"good morning\", \"good afternoon\", \"good evening\",\n",
    "        \"yo\", \"what's up\", \"hiya\", \"howdy\", \"greetings\", \"hey there\", \"sup\"\n",
    "    ],\n",
    "\n",
    "    \"responses\": [\n",
    "        \"I'm doing great, how can I assist you?\",\n",
    "        \"Hello! How can I help you today?\",\n",
    "        \"Hi there! What can I do for you?\",\n",
    "        \"Always ready to help!\",\n",
    "        \"Hey! What’s on your mind?\",\n",
    "        \"How can I brighten your day?\",\n",
    "        \"Need any help today?\",\n",
    "        \"I’m right here, ask me anything!\"\n",
    "    ],\n",
    "\n",
    "    \"farewells\": [\n",
    "        \"goodbye\", \"bye\", \"see you later\", \"take care\", \"have a nice day\",\n",
    "        \"catch you later\", \"see ya\", \"farewell\", \"talk to you soon\", \"later!\"\n",
    "    ],\n",
    "    \"farewell_responses\":[\n",
    "        \"Goodbye! Have a great day ahead!\",\"Take care, see you soon!\",\"Bye for now, don’t hesitate to reach out again!\",\n",
    "        \"It was great talking to you! Farewell!\",\"Catch you later! Stay awesome!\",\"See you around, have a good one!\",\n",
    "        \"Goodbye, and don’t forget to come back anytime!\",\"Take care, hope to chat again soon!\",\"See ya! Wishing you all the best!\",\n",
    "        \"Until next time, stay safe and take care!\"\n",
    "    ],\n",
    "    \"thanks\": [\n",
    "        \"thank you\", \"thanks\", \"thanks a lot\", \"much appreciated\", \"thanks so much\",\n",
    "        \"cheers\", \"many thanks\", \"thank you kindly\", \"appreciate it\", \"ty\"\n",
    "    ],\n",
    "\n",
    "    \"thanks_response\": [\n",
    "        \"You're welcome!\", \"No problem!\", \"Anytime!\", \"My pleasure!\",\n",
    "        \"Happy to help!\", \"Glad I could assist!\", \"Don't mention it!\"\n",
    "    ],\n",
    "\n",
    "    \"questions\": {\n",
    "        \"your name\",\n",
    "        \"how are you\",\n",
    "        \"what can you do\" ,\n",
    "        \"who created you\",\n",
    "        \"are you human\" ,\n",
    "        \"can you learn\"\n",
    "    },\n",
    "\n",
    "    \"small_talk\": [\n",
    "        \"what's up\", \"how's it going\", \"what are you doing\",\n",
    "        \"are you there\", \"tell me something\", \"i'm bored\",\n",
    "        \"do you have feelings\", \"do you sleep\", \"do you dream\"\n",
    "    ],\n",
    "\n",
    "    \"small_talk_response\": [\n",
    "        \"Just chilling in cyberspace!\",\n",
    "        \"I'm always here, waiting to chat!\",\n",
    "        \"I’m not programmed to be bored!\",\n",
    "        \"Sleep? That’s for humans!\",\n",
    "        \"I may not dream, but I can imagine fun responses!\",\n",
    "        \"Of course I have feelings... digitally simulated ones!\",\n",
    "        \"Always here, always alert. Ask away!\"\n",
    "    ],\n",
    "\n",
    "    \"question_response\": {\n",
    "      \"I'm ChatBot, your virtual assistant!\",\n",
    "      \"I'm just a bunch of code, but thanks for asking!\",\n",
    "        \"I can chat with you, answer questions, and make your day better!\",\n",
    "        \"I was created by an awesome developer to chat with you!\",\n",
    "        \"Nope, I'm a bot—but a friendly one!\",\n",
    "        \"I can be improved and updated, but I don’t learn on my own just yet.\"\n",
    "        \n",
    "    }\n",
    "}"
   ]
  },
  {
   "cell_type": "code",
   "execution_count": 5,
   "id": "2b4159aa-dcbe-4b45-842a-89bcbc768341",
   "metadata": {},
   "outputs": [
    {
     "name": "stderr",
     "output_type": "stream",
     "text": [
      "[nltk_data] Downloading package punkt to\n",
      "[nltk_data]     C:\\Users\\k18at\\AppData\\Roaming\\nltk_data...\n",
      "[nltk_data]   Package punkt is already up-to-date!\n",
      "[nltk_data] Downloading package punkt_tab to\n",
      "[nltk_data]     C:\\Users\\k18at\\AppData\\Roaming\\nltk_data...\n",
      "[nltk_data]   Package punkt_tab is already up-to-date!\n"
     ]
    },
    {
     "data": {
      "text/plain": [
       "True"
      ]
     },
     "execution_count": 5,
     "metadata": {},
     "output_type": "execute_result"
    }
   ],
   "source": [
    "nltk.download('punkt')\n",
    "nltk.download('punkt_tab')"
   ]
  },
  {
   "cell_type": "code",
   "execution_count": 31,
   "id": "e5b8e82c-062a-4b79-96da-d184a5683ad3",
   "metadata": {},
   "outputs": [],
   "source": [
    "def match_predefined(user_input):\n",
    "    user_input = user_input.lower()\n",
    "\n",
    "    if user_input in data[\"greetings\"]:\n",
    "        return random.choice(data[\"responses\"])\n",
    "\n",
    "    if user_input in data[\"farewells\"]:\n",
    "        return random.choice(data[\"farewell_responses\"])\n",
    "\n",
    "    if user_input in data[\"thanks\"]:\n",
    "        return random.choice(data[\"thanks_response\"])\n",
    "\n",
    "    if user_input in data[\"questions\"]:\n",
    "        return data[\"questions\"][user_input]\n",
    "\n",
    "    if user_input in data[\"question_response\"]:\n",
    "        return data[\"question_response\"][user_input]\n",
    "\n",
    "    if user_input in data[\"small_talk\"]:\n",
    "        return random.choice(data[\"small_talk_response\"])\n",
    "\n",
    "    return None"
   ]
  },
  {
   "cell_type": "code",
   "execution_count": 7,
   "id": "c34d4b55-0a8f-47b1-bdd6-f7b0b2e97b57",
   "metadata": {},
   "outputs": [],
   "source": [
    "def search_wikipedia(query):\n",
    "    try:\n",
    "        summary = wikipedia.summary(query, sentences=2)\n",
    "        return summary\n",
    "    except wikipedia.exceptions.DisambiguationError as e:\n",
    "        return f\"Too many options. Did you mean: {', '.join(e.options[:3])}?\"\n",
    "    except wikipedia.exceptions.PageError:\n",
    "        return \"No page found.\"\n",
    "    except Exception as e:\n",
    "        return f\"Error: {str(e)}\""
   ]
  },
  {
   "cell_type": "code",
   "execution_count": 13,
   "id": "9e3256ba-bf37-46f6-bce9-76f920eac24c",
   "metadata": {},
   "outputs": [],
   "source": [
    "def extract_topic(question):\n",
    "    info_starters = ['who', 'what', 'when', 'where', 'why', 'how']\n",
    "    words = question.lower().split()\n",
    "    filtered_words = [w for w in words if w not in info_starters]\n",
    "    return \" \".join(filtered_words).strip()\n"
   ]
  },
  {
   "cell_type": "code",
   "execution_count": 9,
   "id": "6ad9655f-0f19-4516-b7d3-63efac22d043",
   "metadata": {},
   "outputs": [],
   "source": [
    "def get_response(user_input):\n",
    "    processed_input= preprocess(user_input)\n",
    "    for intent_category,response_category in INTENT_RESPONSE_MAP.items():\n",
    "        for pattern in data[intent_category]:\n",
    "            processed_pattern=preprocess(pattern)\n",
    "            if all(word in processed_input for word in processed_pattern):\n",
    "                return random.choice(data[response_category])\n",
    "    return \"I'am not sure how to respond to that. Could you rephrase that?\"\n",
    "    "
   ]
  },
  {
   "cell_type": "code",
   "execution_count": 33,
   "id": "aabb5934-7f9b-4a2a-99d4-58d1912f203c",
   "metadata": {},
   "outputs": [],
   "source": [
    "def chat():\n",
    "    print(\"Chatbot : Hello! I'm your friendly chatbot. type 'exit' to end the conversation.\")\n",
    "    while True:\n",
    "        user_input = input(\"you: \").strip()\n",
    "        if user_input.lower()==\"exit\":\n",
    "            print(\"Chatbot : Goodbye! Have a great day!\")\n",
    "            break\n",
    "        predefined = match_predefined(user_input)\n",
    "        if predefined:\n",
    "            print(\"Bot:\", predefined)\n",
    "            continue\n",
    "        words = user_input.lower().split()\n",
    "        first_word = words[0] if words else \"\"\n",
    "        \n",
    "        if first_word in data and len(words) > 1:\n",
    "            last_topic = extract_topic(user_input)\n",
    "            response = search_wikipedia(user_input)\n",
    "        elif first_word in data and last_topic:\n",
    "            combined_query = f\"{first_word} {last_topic}\"\n",
    "            response = search_wikipedia(combined_query)\n",
    "        else:\n",
    "            last_topic = user_input\n",
    "            response = search_wikipedia(user_input)\n",
    "        \n",
    "        print(\"Bot:\", response)"
   ]
  },
  {
   "cell_type": "code",
   "execution_count": 35,
   "id": "d61c3a16-fc0d-49d6-9f47-331f0f290eea",
   "metadata": {},
   "outputs": [
    {
     "name": "stdout",
     "output_type": "stream",
     "text": [
      "Chatbot : Hello! I'm your friendly chatbot. type 'exit' to end the conversation.\n"
     ]
    },
    {
     "name": "stdin",
     "output_type": "stream",
     "text": [
      "you:  hello\n"
     ]
    },
    {
     "name": "stdout",
     "output_type": "stream",
     "text": [
      "Bot: Hi there! What can I do for you?\n"
     ]
    },
    {
     "name": "stdin",
     "output_type": "stream",
     "text": [
      "you:  what are you doing\n"
     ]
    },
    {
     "name": "stdout",
     "output_type": "stream",
     "text": [
      "Bot: Just chilling in cyberspace!\n"
     ]
    },
    {
     "name": "stdin",
     "output_type": "stream",
     "text": [
      "you:  what is kerala\n"
     ]
    },
    {
     "name": "stdout",
     "output_type": "stream",
     "text": [
      "Bot: Kerala (English:   KERR-ə-lə, Malayalam: [ˈkeːɾɐɭɐm] ) is a state on the Malabar Coast of India. It was formed on 1 November 1956, following the passage of the States Reorganisation Act, by combining Malayalam-speaking regions of the erstwhile regions of Cochin, Malabar, South Canara, and Travancore.\n"
     ]
    },
    {
     "name": "stdin",
     "output_type": "stream",
     "text": [
      "you:  what is tree\n"
     ]
    },
    {
     "name": "stdout",
     "output_type": "stream",
     "text": [
      "Bot: In botany, a tree is a perennial plant with an elongated stem, or trunk, usually supporting branches and leaves. In some usages, the definition of a tree may be narrower, e.g., including only woody plants with secondary growth, only plants that are usable as lumber, or only plants above a specified height.\n"
     ]
    },
    {
     "name": "stdin",
     "output_type": "stream",
     "text": [
      "you:  exit\n"
     ]
    },
    {
     "name": "stdout",
     "output_type": "stream",
     "text": [
      "Chatbot : Goodbye! Have a great day!\n"
     ]
    }
   ],
   "source": [
    "if __name__ == \"__main__\":\n",
    "    chat()"
   ]
  },
  {
   "cell_type": "code",
   "execution_count": null,
   "id": "ee05feb3-922b-4fbc-addf-39438c26d415",
   "metadata": {},
   "outputs": [],
   "source": []
  }
 ],
 "metadata": {
  "kernelspec": {
   "display_name": "Python 3 (ipykernel)",
   "language": "python",
   "name": "python3"
  },
  "language_info": {
   "codemirror_mode": {
    "name": "ipython",
    "version": 3
   },
   "file_extension": ".py",
   "mimetype": "text/x-python",
   "name": "python",
   "nbconvert_exporter": "python",
   "pygments_lexer": "ipython3",
   "version": "3.12.4"
  }
 },
 "nbformat": 4,
 "nbformat_minor": 5
}
